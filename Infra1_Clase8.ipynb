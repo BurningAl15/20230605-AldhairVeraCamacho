{
  "nbformat": 4,
  "nbformat_minor": 0,
  "metadata": {
    "colab": {
      "provenance": [],
      "authorship_tag": "ABX9TyM9h+C+mzZRB1qK3rtjPXy6",
      "include_colab_link": true
    },
    "kernelspec": {
      "name": "python3",
      "display_name": "Python 3"
    },
    "language_info": {
      "name": "python"
    }
  },
  "cells": [
    {
      "cell_type": "markdown",
      "metadata": {
        "id": "view-in-github",
        "colab_type": "text"
      },
      "source": [
        "<a href=\"https://colab.research.google.com/github/BurningAl15/20230605-AldhairVeraCamacho/blob/main/Infra1_Clase8.ipynb\" target=\"_parent\"><img src=\"https://colab.research.google.com/assets/colab-badge.svg\" alt=\"Open In Colab\"/></a>"
      ]
    },
    {
      "cell_type": "code",
      "execution_count": null,
      "metadata": {
        "colab": {
          "base_uri": "https://localhost:8080/"
        },
        "id": "7VFWqj5vlnTn",
        "outputId": "5df92cc8-8f41-42f9-e2fe-b688094d2736"
      },
      "outputs": [
        {
          "output_type": "stream",
          "name": "stdout",
          "text": [
            "estructura\n",
            "1\n",
            "['Testing', 'Front1', 'Infra1']\n"
          ]
        }
      ],
      "source": [
        "materia = \"estructura\"\n",
        "numero = 1\n",
        "materias = [\"Testing\", \"Front1\", \"Infra1\"]\n",
        "\n",
        "print(materia)\n",
        "print(numero)\n",
        "print(materias)"
      ]
    },
    {
      "cell_type": "code",
      "source": [
        "mat_completa = f\"La materia es: {materia} {numero}\"\n",
        "print(mat_completa)"
      ],
      "metadata": {
        "colab": {
          "base_uri": "https://localhost:8080/"
        },
        "id": "jwG8dbpJlqpo",
        "outputId": "1e4d43b9-da0f-4012-a31d-d4284afe5a19"
      },
      "execution_count": null,
      "outputs": [
        {
          "output_type": "stream",
          "name": "stdout",
          "text": [
            "La materia es: estructura 1\n"
          ]
        }
      ]
    },
    {
      "cell_type": "code",
      "source": [
        "print(type(materia))\n",
        "print(type(numero))\n",
        "print(type(materias))"
      ],
      "metadata": {
        "colab": {
          "base_uri": "https://localhost:8080/"
        },
        "id": "rUYFS6YFo8oK",
        "outputId": "11b2318a-8c5d-4334-d038-23c82507eb0c"
      },
      "execution_count": null,
      "outputs": [
        {
          "output_type": "stream",
          "name": "stdout",
          "text": [
            "<class 'str'>\n",
            "<class 'int'>\n",
            "<class 'list'>\n"
          ]
        }
      ]
    },
    {
      "cell_type": "code",
      "source": [
        "colores = [\"ROJO\",\"AZUL\",\"AMARILLO\"]\n",
        "print(colores)\n",
        "\n",
        "colores.append(\"VERDE\")\n",
        "print(colores)\n",
        "\n",
        "colores.insert(1,\"MARRON\")\n",
        "print(colores)\n",
        "\n",
        "del colores[-1]\n",
        "print(colores)\n",
        "\n",
        "colores.remove(\"AZUL\")\n",
        "print(colores)\n"
      ],
      "metadata": {
        "colab": {
          "base_uri": "https://localhost:8080/"
        },
        "id": "aFEmWGFDpmLE",
        "outputId": "f13cab81-0a03-482c-a299-849bcb36f34f"
      },
      "execution_count": null,
      "outputs": [
        {
          "output_type": "stream",
          "name": "stdout",
          "text": [
            "['ROJO', 'AZUL', 'AMARILLO']\n",
            "['ROJO', 'AZUL', 'AMARILLO', 'VERDE']\n",
            "['ROJO', 'MARRON', 'AZUL', 'AMARILLO', 'VERDE']\n"
          ]
        }
      ]
    },
    {
      "cell_type": "code",
      "source": [
        "age = int(input(\"Give me an age: \"))\n",
        "\n",
        "if age>18:\n",
        "  print(\"Is an adult\")\n",
        "elif age<18:\n",
        "  print(\"Is a child\")\n",
        "print(age)"
      ],
      "metadata": {
        "colab": {
          "base_uri": "https://localhost:8080/"
        },
        "id": "zwsjzbOKrd2s",
        "outputId": "ad6573dc-cfcf-4faf-a34b-132a20fb73d7"
      },
      "execution_count": null,
      "outputs": [
        {
          "output_type": "stream",
          "name": "stdout",
          "text": [
            "Give me an age11\n",
            "Is a child\n",
            "11\n"
          ]
        }
      ]
    },
    {
      "cell_type": "code",
      "source": [
        "import requests\n",
        "\n",
        "response = requests.get('https://api.coindesk.com/v1/bpi/currentprice.json')\n",
        "if response. status_code == 200:\n",
        "  data = response. json()\n",
        "  print (\"Precio actual de Bitcoin:\", data['bpi']['USD']['rate' ])\n",
        "else:\n",
        "  print(\"Error al obtener los datos.\")"
      ],
      "metadata": {
        "colab": {
          "base_uri": "https://localhost:8080/"
        },
        "id": "AXCiOvVCuaGH",
        "outputId": "f67499dc-b82f-429d-83b6-62ffc3ffd529"
      },
      "execution_count": null,
      "outputs": [
        {
          "output_type": "stream",
          "name": "stdout",
          "text": [
            "Precio actual de Bitcoin: 51,503.413\n"
          ]
        }
      ]
    },
    {
      "cell_type": "code",
      "source": [
        "# Ejercicio 1\n",
        "# Crea un programa que pida dos números enteros al usuario y diga si alguno de ellos es múltiplo del otro.\n",
        "\n",
        "var1 = int(input(\"Numero 1: \"))\n",
        "var2 = int(input(\"Numero 2: \"))\n",
        "\n",
        "esMultiplo = \"No es multiplo\" if (var1 % var2 != 0) else \"Es multiplo\"\n",
        "print(esMultiplo)\n"
      ],
      "metadata": {
        "colab": {
          "base_uri": "https://localhost:8080/"
        },
        "id": "CQLouyxvu903",
        "outputId": "cefb0f5d-91da-4f34-9b4d-67847a607674"
      },
      "execution_count": null,
      "outputs": [
        {
          "output_type": "stream",
          "name": "stdout",
          "text": [
            "Numero 110\n",
            "Numero 25\n",
            "Es multiplo\n"
          ]
        }
      ]
    },
    {
      "cell_type": "code",
      "source": [
        "# Ejercicio 2\n",
        "# Crear una función que calcule la temperatura media de un día a partir de la temperatura máxima y mínima.\n",
        "\n",
        "def media(min,max):\n",
        "  return (min+max)/2\n",
        "\n",
        "def mediaList(temperatures):\n",
        "  return (temperatures[0]+temperatures[i])/2\n",
        "\n",
        "print(media(22,32))"
      ],
      "metadata": {
        "colab": {
          "base_uri": "https://localhost:8080/"
        },
        "id": "x2TNST5fw634",
        "outputId": "769d0d28-15c3-46ec-c336-03602df95e13"
      },
      "execution_count": null,
      "outputs": [
        {
          "output_type": "stream",
          "name": "stdout",
          "text": [
            "27.0\n"
          ]
        }
      ]
    },
    {
      "cell_type": "code",
      "source": [
        "# Ejercicio 3\n",
        "# Crear un programa principal, que utilizando la función anterior, vaya pidiendo la temperatura máxima y mínima de cada día y vaya mostrando la media. El programa pedirá el número de días que se van a introducir.\n",
        "\n",
        "def temperatureList(elementsQuantity):\n",
        "  index=0\n",
        "  elements=[]\n",
        "\n",
        "  while(index<elementsQuantity):\n",
        "    min=int(input(f\"{index+1} Select Minimum temperature: \"))\n",
        "    max=int(input(f\"{index+1} Select Maximum temperature: \"))\n",
        "    elements.append(media(min,max))\n",
        "    index=index+1\n",
        "    print(\" \")\n",
        "\n",
        "  sumList = sum(elements)/elementsQuantity\n",
        "\n",
        "  return sumList\n",
        "\n",
        "print(temperatureList(int(input(\"Number of elements\"))))"
      ],
      "metadata": {
        "colab": {
          "base_uri": "https://localhost:8080/"
        },
        "id": "j4dg9WEuyS2B",
        "outputId": "bd721820-2dde-4078-cb4d-ea180f00127e"
      },
      "execution_count": null,
      "outputs": [
        {
          "output_type": "stream",
          "name": "stdout",
          "text": [
            "Number of elements3\n",
            "1 Select Minimum temperature20\n",
            "1 Select Maximum temperature32\n",
            " \n",
            "2 Select Minimum temperature15\n",
            "2 Select Maximum temperature25\n",
            " \n",
            "3 Select Minimum temperature12\n",
            "3 Select Maximum temperature30\n",
            " \n",
            "[26.0, 20.0, 21.0]\n",
            "22.333333333333332\n"
          ]
        }
      ]
    },
    {
      "cell_type": "code",
      "source": [
        "# Ejercicio 4\n",
        "# Crea una función “calcularMaxMin” que recibe una lista con valores numéricos y devuelve el valor máximo y el mínimo.\n",
        "\n",
        "def calcularMaxMin(arr):\n",
        "  arr.sort()\n",
        "  return (arr[0], arr[len(arr)-1])\n",
        "\n",
        "print(calcularMaxMin([25,32,12,15,8,90]))"
      ],
      "metadata": {
        "colab": {
          "base_uri": "https://localhost:8080/"
        },
        "id": "HWt6GazU0-ir",
        "outputId": "a44c9bc3-a681-4f0a-8919-7946a4d46c63"
      },
      "execution_count": null,
      "outputs": [
        {
          "output_type": "stream",
          "name": "stdout",
          "text": [
            "(8, 90)\n"
          ]
        }
      ]
    },
    {
      "cell_type": "code",
      "source": [
        "# Ejercicio 5\n",
        "# Diseñar una función que calcule el área y el perímetro de una circunferencia.\n",
        "import math\n",
        "\n",
        "def calcularAreaPerimetro(radio):\n",
        "  perimetro = 2 * math.pi * radio\n",
        "  area = math.pi * radio * radio\n",
        "\n",
        "  return (perimetro,area)\n",
        "\n",
        "\n",
        "print(calcularAreaPerimetro(25))"
      ],
      "metadata": {
        "colab": {
          "base_uri": "https://localhost:8080/"
        },
        "id": "YcPE-hDv2ViI",
        "outputId": "a0ebb92b-588e-4106-d2f7-336c4d737e46"
      },
      "execution_count": null,
      "outputs": [
        {
          "output_type": "stream",
          "name": "stdout",
          "text": [
            "(157.07963267948966, 1963.4954084936207)\n"
          ]
        }
      ]
    },
    {
      "cell_type": "code",
      "source": [
        "# Ejercicio 6\n",
        "# Crear una función llamada “Login”, que recibe un nombre de usuario y una contraseña y te devuelve Verdadero si el nombre de usuario es “usuario1” y la contraseña es “1234”.\n",
        "\n",
        "def Login(user,password):\n",
        "  if user == \"usuario1\" and password == \"1234\":\n",
        "    return [\"El usuario es correcto\",True]\n",
        "  else:\n",
        "    return [\"El usuario es incorrecto\",False]\n",
        "\n",
        "userInput = input(\"User: \")\n",
        "passwordInput = input(\"Password: \")\n",
        "\n",
        "print(Login(userInput,passwordInput)[0])"
      ],
      "metadata": {
        "colab": {
          "base_uri": "https://localhost:8080/"
        },
        "id": "CSkp1-HZ20hb",
        "outputId": "2e05ac82-8703-40ef-bed8-7da283d4aedc"
      },
      "execution_count": null,
      "outputs": [
        {
          "output_type": "stream",
          "name": "stdout",
          "text": [
            "User: us\n",
            "Password: 1234\n",
            "El usuario es incorrecto\n"
          ]
        }
      ]
    },
    {
      "cell_type": "code",
      "source": [
        "# Ejercicio 7\n",
        "# Crear un programa principal donde se pida un nombre de usuario y una contraseña y se intente hacer login. El usuario tendrá únicamente tres oportunidades para intentarlo.\n",
        "\n",
        "attempts = 0\n",
        "\n",
        "while(attempts < 3):\n",
        "  userInput = input(\"User: \")\n",
        "  passwordInput = input(\"Password: \")\n",
        "\n",
        "  loginValue = Login(userInput,passwordInput)\n",
        "  print(loginValue[0])\n",
        "  print(\"\" if loginValue[1] else \"Intente otra vez\")\n",
        "  if loginValue[1]:\n",
        "\n",
        "    break\n",
        "  attempts=attempts+1\n",
        "\n"
      ],
      "metadata": {
        "colab": {
          "base_uri": "https://localhost:8080/"
        },
        "id": "LVqef67G3ZUW",
        "outputId": "f4034de7-b0b2-4d6d-bd3b-bc9dc23d05c5"
      },
      "execution_count": null,
      "outputs": [
        {
          "output_type": "stream",
          "name": "stdout",
          "text": [
            "User: us\n",
            "Password: 1234\n",
            "El usuario es incorrecto\n",
            "Intente otra vez\n",
            "User: usuario1\n",
            "Password: 1234\n",
            "El usuario es correcto\n",
            "\n"
          ]
        }
      ]
    }
  ]
}